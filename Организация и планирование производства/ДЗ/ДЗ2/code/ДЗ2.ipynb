{
 "cells": [
  {
   "cell_type": "code",
   "execution_count": 1,
   "metadata": {
    "collapsed": true
   },
   "outputs": [],
   "source": [
    "import numpy as np\n",
    "\n",
    "\n",
    "class Sensor:\n",
    "    def __init__(self, lfa: float, lma: float, b1: float, b2: float):\n",
    "        self.lfa_score: int | None = None\n",
    "        self.lfa = lfa\n",
    "        self.lma = lma\n",
    "        self.b1 = b1\n",
    "        self.b2 = b2\n",
    "\n",
    "    def detect_score_lfa(self):\n",
    "        if self.lfa in np.arange(0.006, 0.011, 1e-3):\n",
    "            default = sum(np.arange(8, 11)) / 3\n",
    "            self.lfa_score = 10 if self.lfa == 0.005 else default\n",
    "            self.lfa_score = 8 if self.lfa == 0.01 else default\n",
    "        elif self.lfa in np.arange(0.011, 0.020, 1e-3):\n",
    "            default = sum(np.arange(6, 9)) / 3\n",
    "            self.lfa_score = 8 if self.lfa == 0.02 else default\n",
    "        elif self.lfa in np.arange(0.021, 0.070, 1e-3):\n",
    "            default = sum(np.arange(4, 7)) / 3\n",
    "            self.lfa_score = 4 if self.lfa == 0.07 else default\n",
    "        return self.lfa_score"
   ]
  },
  {
   "cell_type": "code",
   "execution_count": 2,
   "outputs": [
    {
     "name": "stdout",
     "output_type": "stream",
     "text": [
      "None\n"
     ]
    }
   ],
   "source": [
    "mine = Sensor(0.009, 0.1, 0.65, 0.35) # TODO need to correct regions\n",
    "print(mine.detect_score_lfa())"
   ],
   "metadata": {
    "collapsed": false
   }
  },
  {
   "cell_type": "code",
   "execution_count": 3,
   "outputs": [
    {
     "data": {
      "text/plain": "7.05"
     },
     "execution_count": 3,
     "metadata": {},
     "output_type": "execute_result"
    }
   ],
   "source": [
    "round(6 * .65 + 9 * .35, 2)"
   ],
   "metadata": {
    "collapsed": false
   }
  },
  {
   "cell_type": "code",
   "execution_count": 4,
   "outputs": [
    {
     "data": {
      "text/plain": "6.5"
     },
     "execution_count": 4,
     "metadata": {},
     "output_type": "execute_result"
    }
   ],
   "source": [
    "round(5 * .65 * 2, 2)"
   ],
   "metadata": {
    "collapsed": false
   }
  }
 ],
 "metadata": {
  "kernelspec": {
   "display_name": "Python 3",
   "language": "python",
   "name": "python3"
  },
  "language_info": {
   "codemirror_mode": {
    "name": "ipython",
    "version": 2
   },
   "file_extension": ".py",
   "mimetype": "text/x-python",
   "name": "python",
   "nbconvert_exporter": "python",
   "pygments_lexer": "ipython2",
   "version": "2.7.6"
  }
 },
 "nbformat": 4,
 "nbformat_minor": 0
}
